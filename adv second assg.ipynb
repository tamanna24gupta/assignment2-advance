{
 "cells": [
  {
   "cell_type": "markdown",
   "id": "177af42e-7ae2-4932-9d36-5c1e49f7f80c",
   "metadata": {},
   "source": [
    "1. write a code to reverse a string. "
   ]
  },
  {
   "cell_type": "code",
   "execution_count": 80,
   "id": "2ddb57c1-4fc8-469d-bcb4-c8915e3433f1",
   "metadata": {},
   "outputs": [
    {
     "data": {
      "text/plain": [
       "'margelet'"
      ]
     },
     "execution_count": 80,
     "metadata": {},
     "output_type": "execute_result"
    }
   ],
   "source": [
    "def rev(string):\n",
    "  rev = \"\"\n",
    "  for char in string:\n",
    "    rev = char + rev\n",
    "  return rev\n",
    "rev(\"telegram\")"
   ]
  },
  {
   "cell_type": "markdown",
   "id": "507dc394-96d7-4eeb-9e26-ce7c6c4526fc",
   "metadata": {},
   "source": [
    "2. Write a code to count the number of vowels in a string."
   ]
  },
  {
   "cell_type": "code",
   "execution_count": 84,
   "id": "eab846f2-62ad-41dd-b5c2-08989731e798",
   "metadata": {},
   "outputs": [
    {
     "name": "stdout",
     "output_type": "stream",
     "text": [
      "9\n"
     ]
    }
   ],
   "source": [
    "string=\"i am a very intelligen girl\"\n",
    "n=0\n",
    "v=['a','e','i','o','u']\n",
    "for char in string:\n",
    "    if(char in v):\n",
    "        n=n+1\n",
    "print(n)"
   ]
  },
  {
   "cell_type": "markdown",
   "id": "ac191e59-5c00-4f35-b6b5-9910728deb3c",
   "metadata": {},
   "source": [
    "3. Write a code to check if a given string is a palindrome or not."
   ]
  },
  {
   "cell_type": "code",
   "execution_count": 87,
   "id": "5f7d0adf-a9bc-41d1-a8ef-9dd6b6ed3ada",
   "metadata": {},
   "outputs": [
    {
     "name": "stdout",
     "output_type": "stream",
     "text": [
      "The string is a palindrome.\n"
     ]
    }
   ],
   "source": [
    "def is_palindrome(string):\n",
    "    return string == string[::-1]\n",
    "\n",
    "stri = \"tacocat\"\n",
    "if is_palindrome(stri):\n",
    "  print(\"The string is a palindrome.\")\n",
    "else:\n",
    "  print(\"The string is not a palindrome.\")"
   ]
  },
  {
   "cell_type": "markdown",
   "id": "c90639f1-babd-414c-969f-d5632217855c",
   "metadata": {},
   "source": [
    "4. Write a code to check if two given strings are anagram  of each other."
   ]
  },
  {
   "cell_type": "code",
   "execution_count": 97,
   "id": "4b22bad1-03e2-446a-ae89-3b0d75f68b94",
   "metadata": {},
   "outputs": [
    {
     "name": "stdout",
     "output_type": "stream",
     "text": [
      "The strings are anagrams.\n"
     ]
    }
   ],
   "source": [
    "def are_anagrams(string1, string2):\n",
    "    return sorted(string1) == sorted(string2)\n",
    "\n",
    "string1 = \"listen\"\n",
    "string2 = \"silent\"\n",
    "if are_anagrams(string1, string2):\n",
    "    print(\"The strings are anagrams.\")\n",
    "else:\n",
    "    print(\"The strings are not anagrams.\")"
   ]
  },
  {
   "cell_type": "markdown",
   "id": "acf6e9d7-d19c-46a7-a152-428caceb1b74",
   "metadata": {},
   "source": [
    "5. Write a code to find all occurrences of a given substring within another string."
   ]
  },
  {
   "cell_type": "code",
   "execution_count": 104,
   "id": "a107c16d-66e8-4491-b603-4877f122d60c",
   "metadata": {},
   "outputs": [
    {
     "name": "stdout",
     "output_type": "stream",
     "text": [
      "[0, 13]\n"
     ]
    }
   ],
   "source": [
    "def substring_occ(string, substring):\n",
    "    indices = []\n",
    "    start_index = 0\n",
    "    while True:\n",
    "        index = string.find(substring, start_index)\n",
    "        if index == -1:\n",
    "            break\n",
    "        indices.append(index)\n",
    "        start_index = index + 1\n",
    "    return indices\n",
    "string = \"hello deary, hello cutie\"\n",
    "substring = \"hello\"\n",
    "print(substring_occ(string, substring)) "
   ]
  },
  {
   "cell_type": "markdown",
   "id": "99d80ce1-66d0-4ad3-a6b7-59a9825cd1b6",
   "metadata": {},
   "source": [
    "6. Write to  code to perform basic string operation using the count of repeated characters.\n"
   ]
  },
  {
   "cell_type": "code",
   "execution_count": 3,
   "id": "01437263-80bc-4648-8c05-3935452eafbb",
   "metadata": {},
   "outputs": [
    {
     "name": "stdout",
     "output_type": "stream",
     "text": [
      "Character counts: {'h': 1, 'e': 1, 'l': 3, 'o': 2, ' ': 1, 'w': 1, 'r': 1, 'd': 1}\n",
      "Most frequent character: l\n",
      "String without repeats: helo wrd\n"
     ]
    }
   ],
   "source": [
    "def count_repeated_characters(string):\n",
    "    char_counts = {}\n",
    "    for char in string:\n",
    "        char_counts[char] = char_counts.get(char, 0) + 1\n",
    "    return char_counts\n",
    "\n",
    "def find_most_frequent_character(string):\n",
    "    char_counts = count_repeated_characters(string)\n",
    "    most_frequent_char = max(char_counts, key=char_counts.get)\n",
    "    return most_frequent_char\n",
    "\n",
    "def remove_repeated_characters(string):\n",
    "    seen_chars = set()\n",
    "    result = []\n",
    "    for char in string:\n",
    "        if char not in seen_chars:\n",
    "            seen_chars.add(char)\n",
    "            result.append(char)\n",
    "    return ''.join(result)\n",
    "\n",
    "# Example usage:\n",
    "input_string = \"hello world\"\n",
    "\n",
    "# Count repeated characters\n",
    "char_counts = count_repeated_characters(input_string)\n",
    "print(\"Character counts:\", char_counts)\n",
    "\n",
    "# Find most frequent character\n",
    "most_frequent_char = find_most_frequent_character(input_string)\n",
    "print(\"Most frequent character:\", most_frequent_char)\n",
    "\n",
    "# Remove repeated characters\n",
    "string_without_repeats = remove_repeated_characters(input_string)\n",
    "print(\"String without repeats:\", string_without_repeats)"
   ]
  },
  {
   "cell_type": "markdown",
   "id": "3e5656f2-30bb-444b-a400-750321b5dd02",
   "metadata": {},
   "source": [
    "7.Write a Python code to determine if a string has unique characters:"
   ]
  },
  {
   "cell_type": "code",
   "execution_count": 4,
   "id": "44eb2ef2-22be-4915-9e53-cac6359fb45a",
   "metadata": {},
   "outputs": [
    {
     "name": "stdout",
     "output_type": "stream",
     "text": [
      "There are duplicate characters.\n"
     ]
    }
   ],
   "source": [
    "def has_unique_characters(string):\n",
    "    char_set = set()\n",
    "    for char in string:\n",
    "        if char in char_set:\n",
    "            return False\n",
    "        char_set.add(char)\n",
    "    return True\n",
    "\n",
    "# Example usage:\n",
    "input_string = \"hello\"\n",
    "if has_unique_characters(input_string):\n",
    "    print(\"All characters are unique.\")\n",
    "else:\n",
    "    print(\"There are duplicate characters.\")"
   ]
  },
  {
   "cell_type": "markdown",
   "id": "099e3d2f-05a5-4364-abd3-15775dc78b45",
   "metadata": {},
   "source": [
    "8. Write a code to convert a given string to uppercase or lowercase."
   ]
  },
  {
   "cell_type": "code",
   "execution_count": null,
   "id": "f1c12521-8ae6-43b1-8b53-893ae5169a79",
   "metadata": {},
   "outputs": [],
   "source": [
    "def convert_case(string, case):\n",
    "    if case == \"upper\":\n",
    "        return string.upper()\n",
    "    elif case == \"lower\":\n",
    "        return string.lower()\n",
    "    else:\n",
    "        raise ValueError(\"Invalid case: must be 'upper' or 'lower'\")\n",
    "\n",
    "input_string = \"Hello, people!\"\n",
    "# Convert to uppercase\n",
    "upper_case_string = convert_case(input_string, \"upper\")\n",
    "print(\"Uppercase:\", upper_case_string)\n"
   ]
  },
  {
   "cell_type": "markdown",
   "id": "295528d0-2337-4dcc-8d54-52fe1b26d336",
   "metadata": {},
   "source": [
    "9. Write a code to count the number of words in a string"
   ]
  },
  {
   "cell_type": "code",
   "execution_count": null,
   "id": "c966cf81-34b5-4b59-96cd-28cc55a269c1",
   "metadata": {},
   "outputs": [],
   "source": [
    "def count_words(string):\n",
    "    words = string.split()\n",
    "    return len(words)\n",
    "\n",
    "# Example usage:\n",
    "input_string = \"she is a beautifool girl \"\n",
    "word_count = count_words(input_string)\n",
    "print(\"Number of words:\", word_count)"
   ]
  },
  {
   "cell_type": "markdown",
   "id": "86539669-8be5-4a60-b47c-77067c28f2ed",
   "metadata": {},
   "source": [
    "10. Write a code to concatenate two strings without using + operator."
   ]
  },
  {
   "cell_type": "code",
   "execution_count": 9,
   "id": "2ac71f04-7040-40e1-a376-ecdf6f4da1e9",
   "metadata": {},
   "outputs": [
    {
     "name": "stdout",
     "output_type": "stream",
     "text": [
      "Concatenated string: Heyyy world!\n"
     ]
    }
   ],
   "source": [
    "def concatenate_strings(string1, string2):\n",
    "    result = []\n",
    "    for char in string1:\n",
    "        result.append(char)\n",
    "    for char in string2:\n",
    "        result.append(char)\n",
    "    return ''.join(result)\n",
    "\n",
    "# Example usage:\n",
    "string1 = \"Heyyy\"\n",
    "string2 = \" world!\"\n",
    "concatenated_string = concatenate_strings(string1, string2)\n",
    "print(\"Concatenated string:\", concatenated_string)"
   ]
  },
  {
   "cell_type": "markdown",
   "id": "41f56a3c-9a35-4337-81ce-0e245c6d7ebb",
   "metadata": {},
   "source": [
    "11. Write a code to remove all occurrence of a specific element from a list."
   ]
  },
  {
   "cell_type": "code",
   "execution_count": 10,
   "id": "025cf075-a1d6-4698-9c6d-ed9c63e6700e",
   "metadata": {},
   "outputs": [
    {
     "name": "stdout",
     "output_type": "stream",
     "text": [
      "[1, 3, 4, 5]\n"
     ]
    }
   ],
   "source": [
    "def remove_all_occurrences(lst, element):\n",
    "    result = []\n",
    "    for item in lst:\n",
    "        if item != element:\n",
    "            result.append(item)\n",
    "    return result\n",
    "my_list = [1, 2, 3, 4, 2, 5, 2]\n",
    "element_to_remove = 2\n",
    "new_list = remove_all_occurrences(my_list, element_to_remove)\n",
    "print(new_list)  "
   ]
  },
  {
   "cell_type": "markdown",
   "id": "8b0e0dcb-4999-4e91-b5da-d9d9115401f4",
   "metadata": {},
   "source": [
    "12. Implement a code to find the second largest number in given list of integers.\n"
   ]
  },
  {
   "cell_type": "code",
   "execution_count": 1,
   "id": "4e09e7da-9d79-4cd7-9d58-3a8076ea3fca",
   "metadata": {},
   "outputs": [
    {
     "name": "stdout",
     "output_type": "stream",
     "text": [
      "8\n"
     ]
    }
   ],
   "source": [
    "def find_second_largest(numbers):\n",
    "    if len(numbers) < 2:\n",
    "        return None\n",
    "\n",
    "    largest = numbers[0]\n",
    "    second_largest = None\n",
    "\n",
    "    for num in numbers[1:]:\n",
    "        if num > largest:\n",
    "            second_largest = largest\n",
    "            largest = num\n",
    "        elif num < largest and (second_largest is None or num > second_largest):\n",
    "            second_largest = num\n",
    "\n",
    "    return second_largest\n",
    "\n",
    "# Example usage:\n",
    "my_list = [5, 2, 8, 1, 9, 3]\n",
    "second_largest_number = find_second_largest(my_list)\n",
    "print(second_largest_number)  "
   ]
  },
  {
   "cell_type": "markdown",
   "id": "6d40b128-1f9a-4fc4-b5a5-1d12eaae051f",
   "metadata": {},
   "source": [
    "13. Create node to count the occurrence of each element in a list and return a dictionary with elements as keys and their counts as values."
   ]
  },
  {
   "cell_type": "code",
   "execution_count": 2,
   "id": "1fd1c245-5f49-42a4-aac2-2c433316011c",
   "metadata": {},
   "outputs": [
    {
     "name": "stdout",
     "output_type": "stream",
     "text": [
      "{1: 2, 2: 3, 3: 1, 4: 1}\n"
     ]
    }
   ],
   "source": [
    "def count_elements(lst):\n",
    "    count_dict = {}\n",
    "    for element in lst:\n",
    "        if element in count_dict:\n",
    "            count_dict[element] += 1\n",
    "        else:\n",
    "            count_dict[element] = 1\n",
    "    return count_dict\n",
    "\n",
    "# Example usage:\n",
    "my_list = [1, 2, 3, 2, 4, 1, 2]\n",
    "element_counts = count_elements(my_list)\n",
    "print(element_counts)  "
   ]
  },
  {
   "cell_type": "markdown",
   "id": "d83f0eca-69d2-4339-912d-bbbbec7b6503",
   "metadata": {},
   "source": [
    "14. Write a code to reverse a list in pklace without usig any inbuilt function"
   ]
  },
  {
   "cell_type": "code",
   "execution_count": 3,
   "id": "41a8a698-ad64-4ca5-aabe-63522cdfaafb",
   "metadata": {},
   "outputs": [
    {
     "name": "stdout",
     "output_type": "stream",
     "text": [
      "[5, 4, 3, 2, 1]\n"
     ]
    }
   ],
   "source": [
    "def reverse_list_in_place(lst):\n",
    " \n",
    "    left = 0\n",
    "    right = len(lst) - 1\n",
    "\n",
    "    while left < right:\n",
    "        lst[left], lst[right] = lst[right], lst[left]\n",
    "        left += 1\n",
    "        right -= 1\n",
    "\n",
    "\n",
    "my_list = [1, 2, 3, 4, 5]\n",
    "reverse_list_in_place(my_list)\n",
    "print(my_list)  "
   ]
  },
  {
   "cell_type": "markdown",
   "id": "359b7697-f624-4609-8be6-de14b343983a",
   "metadata": {},
   "source": [
    "15. Implement a code to find and remove duplicate  from a list while preparing the original order of element."
   ]
  },
  {
   "cell_type": "code",
   "execution_count": 4,
   "id": "52c5a254-8d82-4bc6-8063-1dfe6e7dc643",
   "metadata": {},
   "outputs": [
    {
     "name": "stdout",
     "output_type": "stream",
     "text": [
      "[1, 2, 3, 4, 5]\n"
     ]
    }
   ],
   "source": [
    "def remove_duplicates_preserving_order(lst):\n",
    "    seen_elements = set()\n",
    "    result = []\n",
    "    for element in lst:\n",
    "        if element not in seen_elements:\n",
    "            seen_elements.add(element)\n",
    "            result.append(element)\n",
    "    return result\n",
    "my_list = [1, 2, 3, 2, 4, 1, 5]\n",
    "unique_list = remove_duplicates_preserving_order(my_list)\n",
    "print(unique_list)  "
   ]
  },
  {
   "cell_type": "code",
   "execution_count": 8,
   "id": "18ccb139-42ca-42c3-8bef-0e62f2e4dc50",
   "metadata": {},
   "outputs": [
    {
     "name": "stdout",
     "output_type": "stream",
     "text": [
      "[4, 5]\n"
     ]
    }
   ],
   "source": [
    "#QUES 18:Implement a code to find the intersection of two given lists?\n",
    "def intersect_lists(list1, list2):\n",
    "# Convert lists to sets to find the intersection\n",
    "    set1 = set(list1)\n",
    "    set2 = set(list2)\n",
    "# Find the intersection\n",
    "    intersection = set1.intersection(set2)\n",
    "# Convert the result back to a list (optional, depending on your needs)\n",
    "    return list(intersection)\n",
    "# Example usage:\n",
    "list1 = [1, 2, 3, 4, 5]\n",
    "list2 = [4, 5, 6, 7, 8]\n",
    "intersection = intersect_lists(list1, list2)\n",
    "print(intersection)"
   ]
  },
  {
   "cell_type": "code",
   "execution_count": 10,
   "id": "9c5df891-93e2-4f5e-aaea-39830f0dab77",
   "metadata": {},
   "outputs": [
    {
     "name": "stdout",
     "output_type": "stream",
     "text": [
      "[1, 4, 5, 2, 3]\n"
     ]
    }
   ],
   "source": [
    "#QUES 20:Write a code to shuffle a given list randomly without using an built-in shuffle function\n",
    "import random\n",
    "def fisher_yates_shuffle(lst):\n",
    "# Iterate from the last element down to the second element\n",
    "    for i in range(len(lst) - 1, 0, -1):\n",
    "# Generate a random index from 0 to i\n",
    "        j = random.randint(0, i)\n",
    "# Swap elements at indices i and j\n",
    "        lst[i], lst[j] = lst[j], lst[i]\n",
    "    return lst\n",
    "# Example usage:\n",
    "my_list = [1, 2, 3, 4, 5]\n",
    "shuffled_list = fisher_yates_shuffle(my_list)\n",
    "print(shuffled_list)"
   ]
  },
  {
   "cell_type": "code",
   "execution_count": 12,
   "id": "e4567f4d-808b-4988-bf6d-da204d50cdf4",
   "metadata": {},
   "outputs": [
    {
     "name": "stdout",
     "output_type": "stream",
     "text": [
      "(1, 2, 3, 4, 5, 6)\n"
     ]
    }
   ],
   "source": [
    "# QUES 23:Write a code to concatenate two tuples .The function should take two␣\n",
    "#tuples as input and return a new tuple containing elements from both input␣\n",
    "#tuples ?\n",
    "def concatenate_tuples(tuple1, tuple2):\n",
    "# Concatenate the two tuples\n",
    "    return tuple1 + tuple2\n",
    "# Example usage:\n",
    "tuple1 = (1, 2, 3)\n",
    "tuple2 = (4, 5, 6)\n",
    "result = concatenate_tuples(tuple1, tuple2)\n",
    "print(result) "
   ]
  },
  {
   "cell_type": "code",
   "execution_count": 13,
   "id": "0b8d62d5-7f54-447d-a687-92189a521807",
   "metadata": {},
   "outputs": [
    {
     "name": "stdout",
     "output_type": "stream",
     "text": [
      "Union of the two sets: {1, 2, 3, 4, 5, 6, 7, 8}\n",
      "Intersection of the two sets: {4, 5}\n",
      "Difference of set1 - set2: {1, 2, 3}\n",
      "Difference of set2 - set1: {8, 6, 7}\n"
     ]
    }
   ],
   "source": [
    "#QUES 28:Create a code that defines two sets of integers. Then print the union␣\n",
    "#intersection and difference of these two sets.\n",
    "set1 = {1, 2, 3, 4, 5}\n",
    "set2 = {4, 5, 6, 7, 8}\n",
    "# Calculate the union of the two sets\n",
    "union_set = set1.union(set2)\n",
    "# Calculate the intersection of the two sets\n",
    "intersection_set = set1.intersection(set2)\n",
    "# Calculate the difference of the two sets (set1 - set2)\n",
    "difference_set1 = set1.difference(set2)\n",
    "# Calculate the difference of the two sets (set2 - set1)\n",
    "difference_set2 = set2.difference(set1)\n",
    "# Print the results\n",
    "print(\"Union of the two sets:\", union_set)\n",
    "print(\"Intersection of the two sets:\", intersection_set)\n",
    "print(\"Difference of set1 - set2:\", difference_set1)\n",
    "print(\"Difference of set2 - set1:\", difference_set2)"
   ]
  },
  {
   "cell_type": "code",
   "execution_count": null,
   "id": "50be4dca-fc8b-4e0d-8fa2-5da4095e28ad",
   "metadata": {},
   "outputs": [],
   "source": []
  }
 ],
 "metadata": {
  "kernelspec": {
   "display_name": "Python 3 (ipykernel)",
   "language": "python",
   "name": "python3"
  },
  "language_info": {
   "codemirror_mode": {
    "name": "ipython",
    "version": 3
   },
   "file_extension": ".py",
   "mimetype": "text/x-python",
   "name": "python",
   "nbconvert_exporter": "python",
   "pygments_lexer": "ipython3",
   "version": "3.10.8"
  }
 },
 "nbformat": 4,
 "nbformat_minor": 5
}
